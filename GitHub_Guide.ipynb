{
 "cells": [
  {
   "cell_type": "markdown",
   "id": "763b571c",
   "metadata": {},
   "source": [
    "# GitHub User Guide\n",
    "\n",
    "Setting up project, branching, commiting etc."
   ]
  },
  {
   "cell_type": "markdown",
   "id": "910cecac",
   "metadata": {},
   "source": [
    "## Manage Repositories\n",
    "### Local to GitHub\n",
    "#### Create a new repository on GitHub.com\n",
    "To avoid errors, do not initialize the new repository with README, license, or gitignore files. You can add these files after your project has been pushed to GitHub."
   ]
  },
  {
   "cell_type": "markdown",
   "id": "64d5d15a",
   "metadata": {},
   "source": [
    "#### Git Bash\n",
    "\n",
    "1. Open Git Bash\n",
    "2. Change the current working directory to your local project\n",
    "3. Initialize the local directory as a Git repository: ``$ git init -b main`` \n",
    "4. Add the files in your new local repository: ``$ git add <filename>`` or `` $ git add -A`` (adds all files). This stages them for the first commit.\n",
    "5. Commit the files that you've staged in your local repository: ``$ git commit -m \"First commit\"``\n",
    "6. Copy SSH link (URL) under green Code button on the main page\n",
    "7. Add the URL for the remote repository where your local repository will be pushed:\n",
    "```\n",
    "$ git remote add origin  <REMOTE_URL> #set new remote\n",
    "$ git remote -v #verifies the new remote URL\n",
    "```\n",
    "8. Push the changes in your local repository to GitHub.com: ``$ git push origin main``"
   ]
  },
  {
   "cell_type": "markdown",
   "id": "efbe50a2",
   "metadata": {},
   "source": [
    "### GitHub to Local\n",
    "\n",
    "1. In Git Bash, go to the folder where you want the remote repository to be downloaded (cd = change directory): ``$ cd firstDir/secondDir/``\n",
    "2. Clone the git repository: ``$ git clone copiedGithubLink``\n",
    "\n",
    "> From there on you have your local and personal version of the repository (!! be sure that you are a collaborator to the project, otherwise you won't be able to make modifications !!)"
   ]
  },
  {
   "cell_type": "markdown",
   "id": "73b3abce",
   "metadata": {},
   "source": [
    "## Manage Branches\n",
    "\n",
    "The **main** branch is reserved to mature and ready code (do not upload your unfinished or partially working code).\n",
    "\n",
    "Hence, create your own branch of the project to work on (separate and as such doesn't impact the main branch).\n",
    "\n",
    "- Create new branch: ``$ git checkout -b BranchName``\n",
    "- Switch from branch to branch (to work in) in the repository: ``$ git checkout BranchName`` \n",
    "- Verify the branch you are on with: ``$ git status``. This command gived you general information about the status of your branch and your branch name"
   ]
  },
  {
   "cell_type": "markdown",
   "id": "88eb2172",
   "metadata": {},
   "source": [
    "## Manage Files\n",
    "\n",
    "For more details (move, edit, rename, delete) check [GitHub Docs](https://docs.github.com/en/repositories/working-with-files/managing-files/creating-new-files).\n",
    "\n",
    "### Adding to Github\n",
    "\n",
    "While working on your files locally on the computer, nothing is sent to github to be stored, meaning that you have to do this manually everytime you think your code is worthy of upload (generally everytime you manage to complete a specific task in your program). The steps can be summarized as: ``add``, `commit` and ``push``.\n",
    "\n",
    "1. Use ``git status``to check all of the modified files you have been working on. Any files in red have been modified but not selected to be commited to the Github repository. \n",
    "2. To add a file to a branch you are currently in: ``$ git add <filename>`` or to add all files: ``$ git add -A``\n",
    "\n",
    "3. Create the commit with: ``$ git commit -m \"Commit message\"``. \n",
    "> **The message is important, as the commit will not be accepted without one.** If you forget the -m \"message\", you will be put into Vim, which is a command line text editor that can be intimidating to the non initiated. If that happens, just **type :qa and enter** and this should leave the prompt and cancel the commit. After that you just have to redo the commit command.\n",
    "\n",
    "4. Push the changes to github with: ``$ git push origin <YourBranchName>``. This will upload your changes to the site. \n",
    "> The ``origin`` means that the commit comes from your local computer and ``YourBranchName`` is the name of the branch you are working on. It is good practice to always have those two words to make sure that you are pushing your files to the right place.\n",
    "\n",
    "You can now go and check on the github website that all of your new files have correctly been uploaded :)"
   ]
  },
  {
   "cell_type": "markdown",
   "id": "85202d69",
   "metadata": {},
   "source": [
    "### Download from GitHub\n",
    "\n",
    "It is possible that changes have been made to your branch by someone else than yourself, meaning that your **local version is not synchronized with the online version of the reepository**. To fix that, **before you can push your commit you will have to pull down the extra code that you don't have**. \n",
    "- Pull missing files: ``$ git pull command`` \n",
    "- To synchromize your branch with the main branch: ``$ git pull origin main`` (not something that Jonas has ever used in practice)"
   ]
  }
 ],
 "metadata": {
  "kernelspec": {
   "display_name": "Python 3 (ipykernel)",
   "language": "python",
   "name": "python3"
  },
  "language_info": {
   "codemirror_mode": {
    "name": "ipython",
    "version": 3
   },
   "file_extension": ".py",
   "mimetype": "text/x-python",
   "name": "python",
   "nbconvert_exporter": "python",
   "pygments_lexer": "ipython3",
   "version": "3.9.7"
  },
  "toc": {
   "base_numbering": 1,
   "nav_menu": {},
   "number_sections": true,
   "sideBar": true,
   "skip_h1_title": true,
   "title_cell": "Table of Contents",
   "title_sidebar": "Contents",
   "toc_cell": false,
   "toc_position": {
    "height": "calc(100% - 180px)",
    "left": "10px",
    "top": "150px",
    "width": "165px"
   },
   "toc_section_display": true,
   "toc_window_display": false
  }
 },
 "nbformat": 4,
 "nbformat_minor": 5
}
